{
  "nbformat": 4,
  "nbformat_minor": 0,
  "metadata": {
    "colab": {
      "name": "Test_Analysis.ipynb",
      "provenance": [],
      "collapsed_sections": []
    },
    "kernelspec": {
      "name": "python3",
      "display_name": "Python 3"
    }
  },
  "cells": [
    {
      "cell_type": "code",
      "metadata": {
        "id": "ua5N9xlAWIFh",
        "colab_type": "code",
        "colab": {}
      },
      "source": [
        "import unittest\n",
        "import pickle\n",
        "from analysis.nneigh import nearest_neighbor"
      ],
      "execution_count": 42,
      "outputs": []
    },
    {
      "cell_type": "code",
      "metadata": {
        "id": "CRqZyTMj-pXq",
        "colab_type": "code",
        "colab": {
          "base_uri": "https://localhost:8080/",
          "height": 224
        },
        "outputId": "ae1ed3de-c692-4f3d-fc29-7ebe312f97b5"
      },
      "source": [
        "class TestNear(unittest.TestCase):\n",
        "  def test_NN(self):\n",
        "      \"\"\"\n",
        "      Test that the nearest address is chosen\n",
        "      \"\"\"\n",
        "      OSfile = open('C:/Users/Rae-Djamaal/Anaconda3/Lib/Git_Uploads'\\\n",
        "                   '/analysis/TX_OOS', 'rb')\n",
        "      ISfile = open('C:/Users/Rae-Djamaal/Anaconda3/Lib/Git_Uploads'\\\n",
        "                   '/analysis/TX_tail', 'rb')   \n",
        "      T_OS = pickle.load(OSfile) \n",
        "      T_IS = pickle.load(ISfile)\n",
        "      result = nearest_neighbor(T_OS, T_IS, return_dist=True)\n",
        "      Addresses = list(result.iloc[[0,2,3,4,9],2])\n",
        "      self.assertEqual(Addresses, ['603 Showers Rd,Palmview,TX',\\\n",
        "                                   '947 Versailles Dr,El Paso,TX',\\\n",
        "                                   '471 FM 416,Streetman,TX',\\\n",
        "                                   '4136 Chandler Hwy,Tyler,TX',\\\n",
        "                                   '4554 FM,Gary,TX'])\n",
        "\n",
        "\n",
        "if __name__ == '__main__':\n",
        "    unittest.main(argv=['first-arg-is-ignored'], exit=False)"
      ],
      "execution_count": 57,
      "outputs": [
        {
          "output_type": "stream",
          "text": [
            "C:\\Users\\Rae-Djamaal\\Anaconda3\\lib\\site-packages\\pyproj\\crs\\crs.py:280: FutureWarning: '+init=<authority>:<code>' syntax is deprecated. '<authority>:<code>' is the preferred initialization method. When making the change, be mindful of axis order changes: https://pyproj4.github.io/pyproj/stable/gotchas.html#axis-order-changes-in-proj-6\n",
            "  projstring = _prepare_from_string(projparams)\n",
            "C:\\Users\\Rae-Djamaal\\Anaconda3\\lib\\unittest\\case.py:605: ResourceWarning: unclosed file <_io.BufferedReader name='C:/Users/Rae-Djamaal/Anaconda3/Lib/Git_Uploads/analysis/TX_OOS'>\n",
            "  testMethod()\n",
            "C:\\Users\\Rae-Djamaal\\Anaconda3\\lib\\unittest\\case.py:605: ResourceWarning: unclosed file <_io.BufferedReader name='C:/Users/Rae-Djamaal/Anaconda3/Lib/Git_Uploads/analysis/TX_tail'>\n",
            "  testMethod()\n",
            ".\n",
            "----------------------------------------------------------------------\n",
            "Ran 1 test in 0.052s\n",
            "\n",
            "OK\n"
          ],
          "name": "stderr"
        }
      ]
    }
  ]
}