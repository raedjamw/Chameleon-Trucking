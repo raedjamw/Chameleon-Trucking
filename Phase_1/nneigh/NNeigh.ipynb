{
  "nbformat": 4,
  "nbformat_minor": 0,
  "metadata": {
    "colab": {
      "name": "NNeigh.ipynb",
      "provenance": [],
      "collapsed_sections": []
    },
    "kernelspec": {
      "name": "python3",
      "display_name": "Python 3"
    }
  },
  "cells": [
    {
      "cell_type": "markdown",
      "metadata": {
        "id": "ZNclG-FPa-aY",
        "colab_type": "text"
      },
      "source": [
        "NAIVE VERSION of the K Nearest Neighbor Algorithm for K = 2,Modified from the Source:-https://automating-gis-processes.github.io/site/notebooks/L3/nearest-neighbor-faster.html"
      ]
    },
    {
      "cell_type": "code",
      "metadata": {
        "id": "yL2hpeOPZ9Qj",
        "colab_type": "code",
        "colab": {}
      },
      "source": [
        "# Imports\n",
        "from sklearn.neighbors import BallTree\n",
        "\n",
        "def get_nearest(src_points, candidates, k_neighbors=2):\n",
        "  \"\"\"\n",
        "    converts lat-long coords to great-circle distance and\n",
        "    returns the two closests\n",
        "  \"\"\"\n",
        "\n",
        "  # Create tree from the candidate points\n",
        "    tree = BallTree(candidates, leaf_size=20, metric='haversine')\n",
        "\n",
        "    # Find closest points and distances\n",
        "    distances, indices = tree.query(src_points, k=k_neighbors)\n",
        "\n",
        "    # Transpose to get distances and indices into arrays\n",
        "    distances = distances.transpose()\n",
        "    indices = indices.transpose()\n",
        "\n",
        "    #Get closest indices and distances (i.e. array at index 0)\n",
        "    #note: for the second closest points, you would take index 1, etc.\n",
        "    closest = indices[0:2]\n",
        "    closest_dist = distances[0:2]\n",
        "\n",
        "\n",
        "    return (closest, closest_dist)\n",
        "\n",
        "\n",
        "def nearest_neighbor(left_gdf, right_gdf, return_dist=False):\n",
        "    \"\"\"\n",
        "    For each point in left_gdf, find closest 2 points in right GeoDataFrame,\n",
        "    convert to meters and return them.\n",
        "\n",
        "    NOTICE: Assumes that the input Points are in WGS84 projection (lat/lon).\n",
        "    \n",
        "    \"\"\"\n",
        "    left_geom_col = left_gdf.geometry.name\n",
        "\n",
        "    right_geom_col = right_gdf.geometry.name\n",
        "\n",
        "    # indicies in right_gdf are ordered numbers\n",
        "    right = right_gdf.copy().reset_index(drop=True)\n",
        "\n",
        "    # Parse dfs for geometry columns and convert them to Radians in a np arrat\n",
        "    left_radians = np.array(left_gdf[left_geom_col].apply(lambda geom: (geom.x * np.pi / 180, geom.y * np.pi / 180)).tolist())\n",
        "    right_radians = np.array(right[right_geom_col].apply(lambda geom: (geom.x * np.pi / 180, geom.y * np.pi / 180)).tolist())\n",
        " \n",
        "    # Find the nearest points\n",
        "    # -----------------------\n",
        "    # closest ==> index in right_gdf that corresponds to the closest point\n",
        "    # dist ==> distance between the nearest neighbors (in meters)\n",
        "\n",
        "    closest, dist = get_nearest(src_points = left_radians, candidates=right_radians)\n",
        "\n",
        "    # Return points from right df that are closest to those in the left df\n",
        "    closest_points = right.loc[closest[0]]\n",
        "    t_closest_points = right.loc[closest[1]]\n",
        "\n",
        "    # Ensure that the index corresponds the one in left_gdf\n",
        "    closest_points = closest_points.reset_index(drop=True)\n",
        "\n",
        "    t_closest_points = t_closest_points.reset_index(drop=True)\n",
        "    # Add distance if requested\n",
        "\n",
        "    for i in range(0,len(dist)):\n",
        "      if return_dist:\n",
        "        # Convert radians to meters \n",
        "        earth_radius = 6371000  \n",
        "        closest_points['distance in meters_{}'.format(i+1)] = dist[i] * earth_radius\n",
        "\n",
        "    return closest_points\n",
        "\n",
        "def main():\n",
        "  get_nearest()\n",
        "  nearest_neighbor()\n",
        "\n",
        "if __name__ == \"__main__\":\n",
        "    main()"
      ],
      "execution_count": null,
      "outputs": []
    }
  ]
}