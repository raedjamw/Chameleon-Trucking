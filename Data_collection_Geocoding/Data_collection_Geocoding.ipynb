{
  "nbformat": 4,
  "nbformat_minor": 0,
  "metadata": {
    "kernelspec": {
      "display_name": "Python 3",
      "language": "python",
      "name": "python3"
    },
    "language_info": {
      "codemirror_mode": {
        "name": "ipython",
        "version": 3
      },
      "file_extension": ".py",
      "mimetype": "text/x-python",
      "name": "python",
      "nbconvert_exporter": "python",
      "pygments_lexer": "ipython3",
      "version": "3.7.7"
    },
    "colab": {
      "name": "Data_collection_Geocoding.ipynb",
      "provenance": []
    }
  },
  "cells": [
    {
      "cell_type": "code",
      "metadata": {
        "id": "5ou6rMGn7Yn7",
        "colab_type": "code",
        "colab": {}
      },
      "source": [
        "import requests\n",
        "import re\n",
        "import mysql.connector\n",
        "from sqlalchemy import create_engine\n",
        "import logging\n",
        "import pandas as pd\n",
        "import time\n",
        "import json"
      ],
      "execution_count": null,
      "outputs": []
    },
    {
      "cell_type": "code",
      "metadata": {
        "id": "usqqS7Sml8-G",
        "colab_type": "code",
        "colab": {}
      },
      "source": [
        "# import sys\n",
        "# sys.path.append(r'C:\\Users\\Rae-Djamaal\\Anaconda3\\Lib\\Git_Uploads\\chameleon_project_phase1_Final\\Phase_1')\n",
        "\n",
        "# User Defined Function\n",
        "from nneigh.nneigh import nearest_neighbor\n",
        "# User Defined Function\n",
        "from SQL_Mods.sql_mods import MySQL_Operations"
      ],
      "execution_count": null,
      "outputs": []
    },
    {
      "cell_type": "markdown",
      "metadata": {
        "id": "JUrldktQ158-",
        "colab_type": "text"
      },
      "source": [
        "Connect to Sql server and get the IS_Coords_to_Geocode table"
      ]
    },
    {
      "cell_type": "code",
      "metadata": {
        "id": "vOGlhiLI061F",
        "colab_type": "code",
        "colab": {}
      },
      "source": [
        "# Call the instance MySQL Class\n",
        "db_call_1 = MySQL_Operations('insert_your_user','password','host','insert_your_database')\n",
        "\n",
        "# check the engine\n",
        "print(db_call_1.Engine_Connection()[0])\n",
        "\n",
        "# check the connection\n",
        "print(db_call_1.Database_Connection()[0])\n",
        "\n",
        "\n",
        "# get the connection object\n",
        "connection = db_call_1.Database_Connection()[1]\n",
        "\n",
        "# Create the cursor\n",
        "cursor = connection.cursor(prepared=True)"
      ],
      "execution_count": null,
      "outputs": []
    },
    {
      "cell_type": "code",
      "metadata": {
        "id": "SXbIrUh905l4",
        "colab_type": "code",
        "colab": {
          "base_uri": "https://localhost:8080/",
          "height": 69
        },
        "outputId": "0bbb971e-9fb9-4f28-83e3-b4e1fff2c5e2"
      },
      "source": [
        "# load the sql table and convert table to dataframe\n",
        "IS_Coords_to_Geocode = pd.read_sql('SELECT * FROM IS_Coords_to_Geocode', con=engine)\n",
        "print(IS_Coords_to_Geocode.shape)"
      ],
      "execution_count": null,
      "outputs": [
        {
          "output_type": "stream",
          "text": [
            "Connection Established\n",
            "(232422, 2)\n",
            "MySQL Query Time: 0.053000386555989584 minutes\n"
          ],
          "name": "stdout"
        }
      ]
    },
    {
      "cell_type": "code",
      "metadata": {
        "id": "6ZBYx_WY7YoF",
        "colab_type": "code",
        "colab": {
          "base_uri": "https://localhost:8080/",
          "height": 202
        },
        "outputId": "6a061e66-eaf2-4fbd-ea23-9ebebb764155"
      },
      "source": [
        "IS_Coords_to_Geocode.head()"
      ],
      "execution_count": null,
      "outputs": [
        {
          "output_type": "execute_result",
          "data": {
            "text/plain": [
              "  USDOT                          FULL_ADDRESS\n",
              "0     1  1200 New Jersey Ave SE Washington DC\n",
              "1    44          1000 S Lawrence St Mobile AL\n",
              "2    64          3426 Masseyville Rd Macon GA\n",
              "3   111    218 Camellia Blvd Marshallville GA\n",
              "4   113      1735 N Brown Rd Lawrenceville GA"
            ],
            "text/html": [
              "<div>\n",
              "<style scoped>\n",
              "    .dataframe tbody tr th:only-of-type {\n",
              "        vertical-align: middle;\n",
              "    }\n",
              "\n",
              "    .dataframe tbody tr th {\n",
              "        vertical-align: top;\n",
              "    }\n",
              "\n",
              "    .dataframe thead th {\n",
              "        text-align: right;\n",
              "    }\n",
              "</style>\n",
              "<table border=\"1\" class=\"dataframe\">\n",
              "  <thead>\n",
              "    <tr style=\"text-align: right;\">\n",
              "      <th></th>\n",
              "      <th>USDOT</th>\n",
              "      <th>FULL_ADDRESS</th>\n",
              "    </tr>\n",
              "  </thead>\n",
              "  <tbody>\n",
              "    <tr>\n",
              "      <th>0</th>\n",
              "      <td>1</td>\n",
              "      <td>1200 New Jersey Ave SE Washington DC</td>\n",
              "    </tr>\n",
              "    <tr>\n",
              "      <th>1</th>\n",
              "      <td>44</td>\n",
              "      <td>1000 S Lawrence St Mobile AL</td>\n",
              "    </tr>\n",
              "    <tr>\n",
              "      <th>2</th>\n",
              "      <td>64</td>\n",
              "      <td>3426 Masseyville Rd Macon GA</td>\n",
              "    </tr>\n",
              "    <tr>\n",
              "      <th>3</th>\n",
              "      <td>111</td>\n",
              "      <td>218 Camellia Blvd Marshallville GA</td>\n",
              "    </tr>\n",
              "    <tr>\n",
              "      <th>4</th>\n",
              "      <td>113</td>\n",
              "      <td>1735 N Brown Rd Lawrenceville GA</td>\n",
              "    </tr>\n",
              "  </tbody>\n",
              "</table>\n",
              "</div>"
            ]
          },
          "metadata": {
            "tags": []
          },
          "execution_count": 27
        }
      ]
    },
    {
      "cell_type": "code",
      "metadata": {
        "id": "nNNjGE4L_BQE",
        "colab_type": "code",
        "colab": {}
      },
      "source": [
        "# Rename columns\n",
        "IS_Coords_to_Geocode.rename(columns={'USDOT': \"usdot\", 'FULL_ADDRESS': \"address\"}, inplace=True)"
      ],
      "execution_count": null,
      "outputs": []
    },
    {
      "cell_type": "code",
      "metadata": {
        "id": "r3RWq2bw7YoJ",
        "colab_type": "code",
        "colab": {}
      },
      "source": [
        "here_api_key = \"insert_your_api key\""
      ],
      "execution_count": null,
      "outputs": []
    },
    {
      "cell_type": "code",
      "metadata": {
        "id": "y8y35LzA7YoM",
        "colab_type": "code",
        "colab": {
          "base_uri": "https://localhost:8080/",
          "height": 69
        },
        "outputId": "f81ba005-5276-443d-a3da-8b450d51b22e"
      },
      "source": [
        "# Run the HERE Maps Geocoding API\n",
        "start = time.time()\n",
        "dict_list = []\n",
        "dot_fails = []\n",
        "# initialize the rejected requests\n",
        "rejects = 0\n",
        "# iterate over the rows of the df\n",
        "for i, r in IS_Coords_to_Geocode.iterrows():\n",
        "    # clean address format by removing hastags\n",
        "    search_text = f\"{r['FULL_ADDRESS'].replace('#','')}\"\n",
        "    # intialize the url object with full address inserted and api key insert\n",
        "    url = f\"https://geocoder.ls.hereapi.com/6.2/geocode.json?searchtext={search_text.replace('&','').replace(' ','%20')}\"+f'&&apiKey={here_api_key}'\n",
        "    # perform the get request\n",
        "    response = requests.get(url)\n",
        "    # access the response body\n",
        "    j = response.content\n",
        "    try:\n",
        "        USDOT = r['USDOT']\n",
        "        # check that an address exist\n",
        "        if len(json.loads(j)['Response']['View']) > 0:\n",
        "            # get the lat and lon coordinates of this addres\n",
        "            lat = json.loads(j)['Response']['View'][0]['Result'][0]['Location']['DisplayPosition']['Latitude']\n",
        "            lon = json.loads(j)['Response']['View'][0]['Result'][0]['Location']['DisplayPosition']['Longitude']\n",
        "            # append them to the list\n",
        "            dict_list.append({'USDOT':f'{USDOT}','lat':lat,'lon':lon})\n",
        "        else:\n",
        "          # address not found condition\n",
        "            search_text = f\"{r['FULL_ADDRESS'].replace('#','')}\"\n",
        "            url = f\"https://geocoder.ls.hereapi.com/6.2/geocode.json?searchtext={search_text.replace(' ','%20')}&&apiKey={here_api_key}\"\n",
        "            response = requests.get(url)\n",
        "            j = response.content\n",
        "            # inscrease rejects\n",
        "            rejects = rejects+1\n",
        "            dot_fails.append({'row':r,'json':json.loads(j),'ex':'NA'}) \n",
        "    # check for another fail request(e.g. exceeded limit)        \n",
        "    except Exception as ex:\n",
        "        dot_fails.append({'row':r,'json':json.loads(j),'ex':ex})\n",
        "        # increase no of rejects\n",
        "        rejects = rejects+1\n",
        "print(f\"# of rejected requests: {rejects}\")\n",
        "print(f\"# of coordinates acquired: {len(dict_list)}\")\n",
        "end = time.time()\n",
        "print(f\"Total Run Time: {(end-start)/60} minutes\")\n",
        "# save coordinates to dataframe\n",
        "coord_df = pd.DataFrame(dict_list)"
      ],
      "execution_count": null,
      "outputs": [
        {
          "output_type": "stream",
          "text": [
            "# of rejected requests: 202877\n",
            "# of coordinates acquired: 29545\n",
            "Total Run Time: 347.9569258530935 minutes\n"
          ],
          "name": "stdout"
        }
      ]
    },
    {
      "cell_type": "code",
      "metadata": {
        "id": "m7uAPGWd7YoY",
        "colab_type": "code",
        "colab": {}
      },
      "source": [
        "# rename columns\n",
        "coord_df.rename(columns={'lat': \"LAT\",'lon':'LON'}, inplace=True)"
      ],
      "execution_count": null,
      "outputs": []
    },
    {
      "cell_type": "code",
      "metadata": {
        "id": "JbuQc_rsvhwl",
        "colab_type": "code",
        "colab": {}
      },
      "source": [
        "# Get the orginal cords we have\n",
        "= pd.read_sql('SELECT * FROM is_company_coordinates', con=engine)"
      ],
      "execution_count": null,
      "outputs": []
    },
    {
      "cell_type": "code",
      "metadata": {
        "id": "GB7KPieUvl2q",
        "colab_type": "code",
        "colab": {}
      },
      "source": [
        "# concat just geocoded cords to cords we had previously\n",
        "frames = [IS_Coords,coord_df]\n",
        "Coords_to_Find = pd.concat(frames)"
      ],
      "execution_count": null,
      "outputs": []
    },
    {
      "cell_type": "code",
      "metadata": {
        "id": "SARhPFQ_wlKi",
        "colab_type": "code",
        "colab": {
          "base_uri": "https://localhost:8080/",
          "height": 416
        },
        "outputId": "47143a0c-3306-4742-e8cd-e91d4fa4623b"
      },
      "source": [
        "Coords_Found"
      ],
      "execution_count": null,
      "outputs": [
        {
          "output_type": "execute_result",
          "data": {
            "text/plain": [
              "        USDOT       LAT        LON\n",
              "0      466500  61.22304 -149.86803\n",
              "1         222  64.80404 -147.72979\n",
              "2      190356  61.22063 -149.84667\n",
              "3      190356  61.22063 -149.84667\n",
              "4      190356  61.22063 -149.84667\n",
              "...       ...       ...        ...\n",
              "29540  380426  39.15580  -76.79632\n",
              "29541  380427  39.30322  -84.48129\n",
              "29542  380435  39.01703  -94.59665\n",
              "29543  380440  31.55998  -82.21606\n",
              "29544  380443  42.07622  -86.43890\n",
              "\n",
              "[64711 rows x 3 columns]"
            ],
            "text/html": [
              "<div>\n",
              "<style scoped>\n",
              "    .dataframe tbody tr th:only-of-type {\n",
              "        vertical-align: middle;\n",
              "    }\n",
              "\n",
              "    .dataframe tbody tr th {\n",
              "        vertical-align: top;\n",
              "    }\n",
              "\n",
              "    .dataframe thead th {\n",
              "        text-align: right;\n",
              "    }\n",
              "</style>\n",
              "<table border=\"1\" class=\"dataframe\">\n",
              "  <thead>\n",
              "    <tr style=\"text-align: right;\">\n",
              "      <th></th>\n",
              "      <th>USDOT</th>\n",
              "      <th>LAT</th>\n",
              "      <th>LON</th>\n",
              "    </tr>\n",
              "  </thead>\n",
              "  <tbody>\n",
              "    <tr>\n",
              "      <th>0</th>\n",
              "      <td>466500</td>\n",
              "      <td>61.22304</td>\n",
              "      <td>-149.86803</td>\n",
              "    </tr>\n",
              "    <tr>\n",
              "      <th>1</th>\n",
              "      <td>222</td>\n",
              "      <td>64.80404</td>\n",
              "      <td>-147.72979</td>\n",
              "    </tr>\n",
              "    <tr>\n",
              "      <th>2</th>\n",
              "      <td>190356</td>\n",
              "      <td>61.22063</td>\n",
              "      <td>-149.84667</td>\n",
              "    </tr>\n",
              "    <tr>\n",
              "      <th>3</th>\n",
              "      <td>190356</td>\n",
              "      <td>61.22063</td>\n",
              "      <td>-149.84667</td>\n",
              "    </tr>\n",
              "    <tr>\n",
              "      <th>4</th>\n",
              "      <td>190356</td>\n",
              "      <td>61.22063</td>\n",
              "      <td>-149.84667</td>\n",
              "    </tr>\n",
              "    <tr>\n",
              "      <th>...</th>\n",
              "      <td>...</td>\n",
              "      <td>...</td>\n",
              "      <td>...</td>\n",
              "    </tr>\n",
              "    <tr>\n",
              "      <th>29540</th>\n",
              "      <td>380426</td>\n",
              "      <td>39.15580</td>\n",
              "      <td>-76.79632</td>\n",
              "    </tr>\n",
              "    <tr>\n",
              "      <th>29541</th>\n",
              "      <td>380427</td>\n",
              "      <td>39.30322</td>\n",
              "      <td>-84.48129</td>\n",
              "    </tr>\n",
              "    <tr>\n",
              "      <th>29542</th>\n",
              "      <td>380435</td>\n",
              "      <td>39.01703</td>\n",
              "      <td>-94.59665</td>\n",
              "    </tr>\n",
              "    <tr>\n",
              "      <th>29543</th>\n",
              "      <td>380440</td>\n",
              "      <td>31.55998</td>\n",
              "      <td>-82.21606</td>\n",
              "    </tr>\n",
              "    <tr>\n",
              "      <th>29544</th>\n",
              "      <td>380443</td>\n",
              "      <td>42.07622</td>\n",
              "      <td>-86.43890</td>\n",
              "    </tr>\n",
              "  </tbody>\n",
              "</table>\n",
              "<p>64711 rows × 3 columns</p>\n",
              "</div>"
            ]
          },
          "metadata": {
            "tags": []
          },
          "execution_count": 45
        }
      ]
    },
    {
      "cell_type": "code",
      "metadata": {
        "id": "JWE7v7d0v6Ev",
        "colab_type": "code",
        "colab": {}
      },
      "source": [
        "# Save the Coords_to_Find to MySQL Server\n",
        "Coords_Found.to_sql('is_company_coordinates', engine, if_exists='replace', index=False)"
      ],
      "execution_count": null,
      "outputs": []
    }
  ]
}