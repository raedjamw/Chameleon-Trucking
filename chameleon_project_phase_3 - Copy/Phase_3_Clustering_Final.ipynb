{
  "nbformat": 4,
  "nbformat_minor": 0,
  "metadata": {
    "kernelspec": {
      "display_name": "Python 3",
      "language": "python",
      "name": "python3"
    },
    "language_info": {
      "codemirror_mode": {
        "name": "ipython",
        "version": 3
      },
      "file_extension": ".py",
      "mimetype": "text/x-python",
      "name": "python",
      "nbconvert_exporter": "python",
      "pygments_lexer": "ipython3",
      "version": "3.7.4"
    },
    "colab": {
      "name": "Phase_3_Clustering.ipynb",
      "provenance": [],
      "collapsed_sections": []
    }
  },
  "cells": [
    {
      "cell_type": "code",
      "metadata": {
        "id": "2WKiM8QqoDu_",
        "colab_type": "code",
        "colab": {}
      },
      "source": [
        "import numpy as np\n",
        "import pandas as pd\n",
        "import matplotlib.pyplot as plt\n",
        "from mpl_toolkits.mplot3d import Axes3D\n",
        "%matplotlib inline\n",
        "import seaborn as sns\n",
        "import csv\n",
        "import scipy.cluster.hierarchy as shc\n",
        "from sklearn.cluster import AgglomerativeClustering\n",
        "from sklearn import preprocessing\n",
        "from sklearn.preprocessing import MinMaxScaler "
      ],
      "execution_count": null,
      "outputs": []
    },
    {
      "cell_type": "code",
      "metadata": {
        "id": "2G_vnwxqoDvH",
        "colab_type": "code",
        "colab": {}
      },
      "source": [
        "Eng_Feat = pd.read_csv(\"/home/propel/FMCSA/MCMIS/2017_2018_results/Eng_Features_17_18.csv\")\n",
        "KNN_Dist = pd.read_csv(\"/home/propel/FMCSA/MCMIS/2017_2018_results/KNN_Distance.csv\")"
      ],
      "execution_count": null,
      "outputs": []
    },
    {
      "cell_type": "code",
      "metadata": {
        "id": "7ErN4QqroDvM",
        "colab_type": "code",
        "colab": {},
        "outputId": "b04ca1ea-933b-4b66-802a-0a7347f162c8"
      },
      "source": [
        "Eng_Feat.head(1)"
      ],
      "execution_count": null,
      "outputs": [
        {
          "output_type": "execute_result",
          "data": {
            "text/html": [
              "<div>\n",
              "<style scoped>\n",
              "    .dataframe tbody tr th:only-of-type {\n",
              "        vertical-align: middle;\n",
              "    }\n",
              "\n",
              "    .dataframe tbody tr th {\n",
              "        vertical-align: top;\n",
              "    }\n",
              "\n",
              "    .dataframe thead th {\n",
              "        text-align: right;\n",
              "    }\n",
              "</style>\n",
              "<table border=\"1\" class=\"dataframe\">\n",
              "  <thead>\n",
              "    <tr style=\"text-align: right;\">\n",
              "      <th></th>\n",
              "      <th>VEHICLE_ID_NO</th>\n",
              "      <th>USDOT</th>\n",
              "      <th>CARRIER_NAME</th>\n",
              "      <th>CARRIER_STATE</th>\n",
              "      <th>No_Carriers_Per_Vehicle</th>\n",
              "      <th>Days_Between_OOSIncident_ISIncident</th>\n",
              "      <th>Incident_After_OOS</th>\n",
              "    </tr>\n",
              "  </thead>\n",
              "  <tbody>\n",
              "    <tr>\n",
              "      <td>0</td>\n",
              "      <td>00000000000EB2677</td>\n",
              "      <td>606698</td>\n",
              "      <td>TRANSPORTES JD</td>\n",
              "      <td>CI</td>\n",
              "      <td>1</td>\n",
              "      <td>1000000.0</td>\n",
              "      <td>0.0</td>\n",
              "    </tr>\n",
              "  </tbody>\n",
              "</table>\n",
              "</div>"
            ],
            "text/plain": [
              "       VEHICLE_ID_NO   USDOT    CARRIER_NAME CARRIER_STATE  \\\n",
              "0  00000000000EB2677  606698  TRANSPORTES JD            CI   \n",
              "\n",
              "   No_Carriers_Per_Vehicle  Days_Between_OOSIncident_ISIncident  \\\n",
              "0                        1                            1000000.0   \n",
              "\n",
              "   Incident_After_OOS  \n",
              "0                 0.0  "
            ]
          },
          "metadata": {
            "tags": []
          },
          "execution_count": 257
        }
      ]
    },
    {
      "cell_type": "code",
      "metadata": {
        "id": "iGAdGu6KoDvT",
        "colab_type": "code",
        "colab": {},
        "outputId": "a641667a-e1fe-4849-ab81-6795198b51de"
      },
      "source": [
        "KNN_Dist.head(1)"
      ],
      "execution_count": null,
      "outputs": [
        {
          "output_type": "execute_result",
          "data": {
            "text/html": [
              "<div>\n",
              "<style scoped>\n",
              "    .dataframe tbody tr th:only-of-type {\n",
              "        vertical-align: middle;\n",
              "    }\n",
              "\n",
              "    .dataframe tbody tr th {\n",
              "        vertical-align: top;\n",
              "    }\n",
              "\n",
              "    .dataframe thead th {\n",
              "        text-align: right;\n",
              "    }\n",
              "</style>\n",
              "<table border=\"1\" class=\"dataframe\">\n",
              "  <thead>\n",
              "    <tr style=\"text-align: right;\">\n",
              "      <th></th>\n",
              "      <th>LEGAL_NAME_OS</th>\n",
              "      <th>ZIP_CODE</th>\n",
              "      <th>STATE_OS</th>\n",
              "      <th>CITY_OS</th>\n",
              "      <th>USDOT_IS</th>\n",
              "      <th>distance in meters_1</th>\n",
              "    </tr>\n",
              "  </thead>\n",
              "  <tbody>\n",
              "    <tr>\n",
              "      <td>0</td>\n",
              "      <td>STATE INDUSTRIAL INC</td>\n",
              "      <td>20003</td>\n",
              "      <td>DC</td>\n",
              "      <td>WASHINGTON</td>\n",
              "      <td>1</td>\n",
              "      <td>347.413899</td>\n",
              "    </tr>\n",
              "  </tbody>\n",
              "</table>\n",
              "</div>"
            ],
            "text/plain": [
              "          LEGAL_NAME_OS ZIP_CODE STATE_OS     CITY_OS  USDOT_IS  \\\n",
              "0  STATE INDUSTRIAL INC    20003       DC  WASHINGTON         1   \n",
              "\n",
              "   distance in meters_1  \n",
              "0            347.413899  "
            ]
          },
          "metadata": {
            "tags": []
          },
          "execution_count": 258
        }
      ]
    },
    {
      "cell_type": "code",
      "metadata": {
        "id": "9UxsLz0hoDvY",
        "colab_type": "code",
        "colab": {},
        "outputId": "781ce394-0444-49c9-a996-fccafdda43fc"
      },
      "source": [
        "KNN_Dist.rename(columns={'USDOT_IS': 'USDOT','distance in meters_1':'Distance_Between_IS_OOS'}, inplace=True)\n",
        "KNN_Dist.head(3)"
      ],
      "execution_count": null,
      "outputs": [
        {
          "output_type": "execute_result",
          "data": {
            "text/html": [
              "<div>\n",
              "<style scoped>\n",
              "    .dataframe tbody tr th:only-of-type {\n",
              "        vertical-align: middle;\n",
              "    }\n",
              "\n",
              "    .dataframe tbody tr th {\n",
              "        vertical-align: top;\n",
              "    }\n",
              "\n",
              "    .dataframe thead th {\n",
              "        text-align: right;\n",
              "    }\n",
              "</style>\n",
              "<table border=\"1\" class=\"dataframe\">\n",
              "  <thead>\n",
              "    <tr style=\"text-align: right;\">\n",
              "      <th></th>\n",
              "      <th>LEGAL_NAME_OS</th>\n",
              "      <th>ZIP_CODE</th>\n",
              "      <th>STATE_OS</th>\n",
              "      <th>CITY_OS</th>\n",
              "      <th>USDOT</th>\n",
              "      <th>Distance_Between_IS_OOS</th>\n",
              "    </tr>\n",
              "  </thead>\n",
              "  <tbody>\n",
              "    <tr>\n",
              "      <td>0</td>\n",
              "      <td>STATE INDUSTRIAL INC</td>\n",
              "      <td>20003</td>\n",
              "      <td>DC</td>\n",
              "      <td>WASHINGTON</td>\n",
              "      <td>1</td>\n",
              "      <td>347.413899</td>\n",
              "    </tr>\n",
              "    <tr>\n",
              "      <td>1</td>\n",
              "      <td>MERRITT ENERGY PARTNERS LLC</td>\n",
              "      <td>36603</td>\n",
              "      <td>AL</td>\n",
              "      <td>MOBILE</td>\n",
              "      <td>44</td>\n",
              "      <td>405.900496</td>\n",
              "    </tr>\n",
              "    <tr>\n",
              "      <td>2</td>\n",
              "      <td>HJB DELIVERIES LLC</td>\n",
              "      <td>31217</td>\n",
              "      <td>GA</td>\n",
              "      <td>MACON</td>\n",
              "      <td>64</td>\n",
              "      <td>1854.271811</td>\n",
              "    </tr>\n",
              "  </tbody>\n",
              "</table>\n",
              "</div>"
            ],
            "text/plain": [
              "                 LEGAL_NAME_OS ZIP_CODE STATE_OS     CITY_OS  USDOT  \\\n",
              "0         STATE INDUSTRIAL INC    20003       DC  WASHINGTON      1   \n",
              "1  MERRITT ENERGY PARTNERS LLC    36603       AL      MOBILE     44   \n",
              "2           HJB DELIVERIES LLC    31217       GA       MACON     64   \n",
              "\n",
              "   Distance_Between_IS_OOS  \n",
              "0               347.413899  \n",
              "1               405.900496  \n",
              "2              1854.271811  "
            ]
          },
          "metadata": {
            "tags": []
          },
          "execution_count": 259
        }
      ]
    },
    {
      "cell_type": "code",
      "metadata": {
        "id": "pPc_RKSKoDve",
        "colab_type": "code",
        "colab": {},
        "outputId": "8a28e7ad-e037-40d4-aa96-10da637c8d8b"
      },
      "source": [
        "# Merge Them\n",
        "Final_DF = pd.merge(Eng_Feat, KNN_Dist, how='inner', on=['USDOT'])\n",
        "Final_DF.shape"
      ],
      "execution_count": null,
      "outputs": [
        {
          "output_type": "execute_result",
          "data": {
            "text/plain": [
              "(119561, 12)"
            ]
          },
          "metadata": {
            "tags": []
          },
          "execution_count": 260
        }
      ]
    },
    {
      "cell_type": "code",
      "metadata": {
        "id": "CC6jBgy1oDvj",
        "colab_type": "code",
        "colab": {}
      },
      "source": [
        "# Feature scaling- View the frequency of value counts and set a suitable scale"
      ],
      "execution_count": null,
      "outputs": []
    },
    {
      "cell_type": "code",
      "metadata": {
        "id": "XGgnKPdYoDvr",
        "colab_type": "code",
        "colab": {},
        "outputId": "03920331-d0bf-4ca8-e9aa-e19a47f73e9b"
      },
      "source": [
        "Final_DF['Distance_Between_IS_OOS'].value_counts()"
      ],
      "execution_count": null,
      "outputs": [
        {
          "output_type": "execute_result",
          "data": {
            "text/plain": [
              "54.981817      2560\n",
              "4168.719377    2297\n",
              "1786.569459    1767\n",
              "1871.483740    1552\n",
              "67.714953      1536\n",
              "               ... \n",
              "2750.733174       1\n",
              "440.115610        1\n",
              "3555.517296       1\n",
              "1319.723529       1\n",
              "504.570286        1\n",
              "Name: Distance_Between_IS_OOS, Length: 29061, dtype: int64"
            ]
          },
          "metadata": {
            "tags": []
          },
          "execution_count": 262
        }
      ]
    },
    {
      "cell_type": "code",
      "metadata": {
        "id": "wL7hgzRJoDvz",
        "colab_type": "code",
        "colab": {},
        "outputId": "eb80457c-1012-4ddc-f305-ae266b4c9be4"
      },
      "source": [
        "# Feature 2 - No_Carriers_Per_Vehicle\n",
        "Final_DF['No_Carriers_Per_Vehicle'].value_counts()"
      ],
      "execution_count": null,
      "outputs": [
        {
          "output_type": "execute_result",
          "data": {
            "text/plain": [
              "1    88028\n",
              "2    28630\n",
              "3     2422\n",
              "4      373\n",
              "5       80\n",
              "6       19\n",
              "7        9\n",
              "Name: No_Carriers_Per_Vehicle, dtype: int64"
            ]
          },
          "metadata": {
            "tags": []
          },
          "execution_count": 263
        }
      ]
    },
    {
      "cell_type": "code",
      "metadata": {
        "id": "-KQgQ24OoDv7",
        "colab_type": "code",
        "colab": {},
        "outputId": "a5156d1a-da26-4529-e582-270c7ac30779"
      },
      "source": [
        "# Feature 3 - Days_Between_OOSIncident_ISIncident\n",
        "Final_DF['Days_Between_OOSIncident_ISIncident'].value_counts()"
      ],
      "execution_count": null,
      "outputs": [
        {
          "output_type": "execute_result",
          "data": {
            "text/plain": [
              "1000000.0    117480\n",
              "410.0           514\n",
              "13.0            259\n",
              "485.0           258\n",
              "486.0           256\n",
              "              ...  \n",
              "354.0             1\n",
              "140.0             1\n",
              "106.0             1\n",
              "445.0             1\n",
              "277.0             1\n",
              "Name: Days_Between_OOSIncident_ISIncident, Length: 329, dtype: int64"
            ]
          },
          "metadata": {
            "tags": []
          },
          "execution_count": 264
        }
      ]
    },
    {
      "cell_type": "code",
      "metadata": {
        "id": "-nIumbRUoDwC",
        "colab_type": "code",
        "colab": {},
        "outputId": "10acf492-edc2-4b04-de6c-f91c21836fe0"
      },
      "source": [
        "# Relable max as 700 days\n",
        "Final_DF.Days_Between_OOSIncident_ISIncident[Final_DF.Days_Between_OOSIncident_ISIncident == 1000000.0] = 800\n"
      ],
      "execution_count": null,
      "outputs": [
        {
          "output_type": "stream",
          "text": [
            "/home/propel/anaconda3/lib/python3.7/site-packages/ipykernel_launcher.py:2: SettingWithCopyWarning: \n",
            "A value is trying to be set on a copy of a slice from a DataFrame\n",
            "\n",
            "See the caveats in the documentation: http://pandas.pydata.org/pandas-docs/stable/user_guide/indexing.html#returning-a-view-versus-a-copy\n",
            "  \n"
          ],
          "name": "stderr"
        }
      ]
    },
    {
      "cell_type": "code",
      "metadata": {
        "id": "3wjXqbonoDwH",
        "colab_type": "code",
        "colab": {}
      },
      "source": [
        "# Features to sc\n",
        "min_max_scaler = MinMaxScaler()\n",
        "\n",
        "Features_to_sc = Final_DF.loc[:,['Distance_Between_IS_OOS', 'No_Carriers_Per_Vehicle', 'Days_Between_OOSIncident_ISIncident']]\n",
        "Features_to_sc = min_max_scaler.fit_transform(Features_to_sc)"
      ],
      "execution_count": null,
      "outputs": []
    },
    {
      "cell_type": "code",
      "metadata": {
        "id": "q-h1qS4goDwL",
        "colab_type": "code",
        "colab": {}
      },
      "source": [
        "# Clustering"
      ],
      "execution_count": null,
      "outputs": []
    },
    {
      "cell_type": "code",
      "metadata": {
        "id": "7h1LX4XqoDwP",
        "colab_type": "code",
        "colab": {},
        "outputId": "0584fb18-4a2d-42f6-d982-3b08f888b132"
      },
      "source": [
        "#Run Hierachical Cluster\n",
        "cluster = AgglomerativeClustering(n_clusters=2, affinity='euclidean', linkage='ward')\n",
        "cluster.fit_predict(Features_to_sc)"
      ],
      "execution_count": null,
      "outputs": [
        {
          "output_type": "execute_result",
          "data": {
            "text/plain": [
              "array([1, 1, 1, ..., 1, 1, 1])"
            ]
          },
          "metadata": {
            "tags": []
          },
          "execution_count": 268
        }
      ]
    },
    {
      "cell_type": "code",
      "metadata": {
        "id": "zfjiD8MQoDwS",
        "colab_type": "code",
        "colab": {},
        "outputId": "70b4e1bb-aeaa-4133-80d8-0856fbac6931"
      },
      "source": [
        "df_cnt = pd.Series(cluster.labels_)\n",
        "df_cnt.value_counts()"
      ],
      "execution_count": null,
      "outputs": [
        {
          "output_type": "execute_result",
          "data": {
            "text/plain": [
              "1    87372\n",
              "0    32189\n",
              "dtype: int64"
            ]
          },
          "metadata": {
            "tags": []
          },
          "execution_count": 269
        }
      ]
    },
    {
      "cell_type": "code",
      "metadata": {
        "id": "BKDVeJVWoDwV",
        "colab_type": "code",
        "colab": {},
        "outputId": "5d6c4def-cac3-4a05-ae9e-ecb8a1ab33a9"
      },
      "source": [
        "# label array to DF\n",
        "labels_Sr = pd.DataFrame(df_cnt)\n",
        "labels_Sr.rename(columns={0: 'Labels'}, inplace=True)\n",
        "labels_Sr"
      ],
      "execution_count": null,
      "outputs": [
        {
          "output_type": "execute_result",
          "data": {
            "text/html": [
              "<div>\n",
              "<style scoped>\n",
              "    .dataframe tbody tr th:only-of-type {\n",
              "        vertical-align: middle;\n",
              "    }\n",
              "\n",
              "    .dataframe tbody tr th {\n",
              "        vertical-align: top;\n",
              "    }\n",
              "\n",
              "    .dataframe thead th {\n",
              "        text-align: right;\n",
              "    }\n",
              "</style>\n",
              "<table border=\"1\" class=\"dataframe\">\n",
              "  <thead>\n",
              "    <tr style=\"text-align: right;\">\n",
              "      <th></th>\n",
              "      <th>Labels</th>\n",
              "    </tr>\n",
              "  </thead>\n",
              "  <tbody>\n",
              "    <tr>\n",
              "      <td>0</td>\n",
              "      <td>1</td>\n",
              "    </tr>\n",
              "    <tr>\n",
              "      <td>1</td>\n",
              "      <td>1</td>\n",
              "    </tr>\n",
              "    <tr>\n",
              "      <td>2</td>\n",
              "      <td>1</td>\n",
              "    </tr>\n",
              "    <tr>\n",
              "      <td>3</td>\n",
              "      <td>1</td>\n",
              "    </tr>\n",
              "    <tr>\n",
              "      <td>4</td>\n",
              "      <td>1</td>\n",
              "    </tr>\n",
              "    <tr>\n",
              "      <td>...</td>\n",
              "      <td>...</td>\n",
              "    </tr>\n",
              "    <tr>\n",
              "      <td>119556</td>\n",
              "      <td>0</td>\n",
              "    </tr>\n",
              "    <tr>\n",
              "      <td>119557</td>\n",
              "      <td>0</td>\n",
              "    </tr>\n",
              "    <tr>\n",
              "      <td>119558</td>\n",
              "      <td>1</td>\n",
              "    </tr>\n",
              "    <tr>\n",
              "      <td>119559</td>\n",
              "      <td>1</td>\n",
              "    </tr>\n",
              "    <tr>\n",
              "      <td>119560</td>\n",
              "      <td>1</td>\n",
              "    </tr>\n",
              "  </tbody>\n",
              "</table>\n",
              "<p>119561 rows × 1 columns</p>\n",
              "</div>"
            ],
            "text/plain": [
              "        Labels\n",
              "0            1\n",
              "1            1\n",
              "2            1\n",
              "3            1\n",
              "4            1\n",
              "...        ...\n",
              "119556       0\n",
              "119557       0\n",
              "119558       1\n",
              "119559       1\n",
              "119560       1\n",
              "\n",
              "[119561 rows x 1 columns]"
            ]
          },
          "metadata": {
            "tags": []
          },
          "execution_count": 291
        }
      ]
    },
    {
      "cell_type": "code",
      "metadata": {
        "id": "cy1Xg2ocoDwY",
        "colab_type": "code",
        "colab": {}
      },
      "source": [
        "# 3D Plot"
      ],
      "execution_count": null,
      "outputs": []
    },
    {
      "cell_type": "code",
      "metadata": {
        "id": "CMlCdl61oDwf",
        "colab_type": "code",
        "colab": {},
        "outputId": "b32679ae-fdc5-488c-e797-9ce6b9fa7758"
      },
      "source": [
        "# Reconvert to df\n",
        "Feat_DF = pd.DataFrame(data=Features_to_sc, columns=['Distance_Between_IS_OOS', 'No_Carriers_Per_Vehicle', 'Days_Between_OOSIncident_ISIncident'])\n",
        "Feat_DF"
      ],
      "execution_count": null,
      "outputs": [
        {
          "output_type": "execute_result",
          "data": {
            "text/html": [
              "<div>\n",
              "<style scoped>\n",
              "    .dataframe tbody tr th:only-of-type {\n",
              "        vertical-align: middle;\n",
              "    }\n",
              "\n",
              "    .dataframe tbody tr th {\n",
              "        vertical-align: top;\n",
              "    }\n",
              "\n",
              "    .dataframe thead th {\n",
              "        text-align: right;\n",
              "    }\n",
              "</style>\n",
              "<table border=\"1\" class=\"dataframe\">\n",
              "  <thead>\n",
              "    <tr style=\"text-align: right;\">\n",
              "      <th></th>\n",
              "      <th>Distance_Between_IS_OOS</th>\n",
              "      <th>No_Carriers_Per_Vehicle</th>\n",
              "      <th>Days_Between_OOSIncident_ISIncident</th>\n",
              "    </tr>\n",
              "  </thead>\n",
              "  <tbody>\n",
              "    <tr>\n",
              "      <td>0</td>\n",
              "      <td>0.000029</td>\n",
              "      <td>0.000000</td>\n",
              "      <td>1.0</td>\n",
              "    </tr>\n",
              "    <tr>\n",
              "      <td>1</td>\n",
              "      <td>0.000029</td>\n",
              "      <td>0.000000</td>\n",
              "      <td>1.0</td>\n",
              "    </tr>\n",
              "    <tr>\n",
              "      <td>2</td>\n",
              "      <td>0.000029</td>\n",
              "      <td>0.000000</td>\n",
              "      <td>1.0</td>\n",
              "    </tr>\n",
              "    <tr>\n",
              "      <td>3</td>\n",
              "      <td>0.000029</td>\n",
              "      <td>0.000000</td>\n",
              "      <td>1.0</td>\n",
              "    </tr>\n",
              "    <tr>\n",
              "      <td>4</td>\n",
              "      <td>0.000029</td>\n",
              "      <td>0.000000</td>\n",
              "      <td>1.0</td>\n",
              "    </tr>\n",
              "    <tr>\n",
              "      <td>...</td>\n",
              "      <td>...</td>\n",
              "      <td>...</td>\n",
              "      <td>...</td>\n",
              "    </tr>\n",
              "    <tr>\n",
              "      <td>119556</td>\n",
              "      <td>0.000161</td>\n",
              "      <td>0.166667</td>\n",
              "      <td>1.0</td>\n",
              "    </tr>\n",
              "    <tr>\n",
              "      <td>119557</td>\n",
              "      <td>0.000161</td>\n",
              "      <td>0.166667</td>\n",
              "      <td>1.0</td>\n",
              "    </tr>\n",
              "    <tr>\n",
              "      <td>119558</td>\n",
              "      <td>0.000048</td>\n",
              "      <td>0.000000</td>\n",
              "      <td>1.0</td>\n",
              "    </tr>\n",
              "    <tr>\n",
              "      <td>119559</td>\n",
              "      <td>0.000029</td>\n",
              "      <td>0.000000</td>\n",
              "      <td>1.0</td>\n",
              "    </tr>\n",
              "    <tr>\n",
              "      <td>119560</td>\n",
              "      <td>0.000002</td>\n",
              "      <td>0.000000</td>\n",
              "      <td>1.0</td>\n",
              "    </tr>\n",
              "  </tbody>\n",
              "</table>\n",
              "<p>119561 rows × 3 columns</p>\n",
              "</div>"
            ],
            "text/plain": [
              "        Distance_Between_IS_OOS  No_Carriers_Per_Vehicle  \\\n",
              "0                      0.000029                 0.000000   \n",
              "1                      0.000029                 0.000000   \n",
              "2                      0.000029                 0.000000   \n",
              "3                      0.000029                 0.000000   \n",
              "4                      0.000029                 0.000000   \n",
              "...                         ...                      ...   \n",
              "119556                 0.000161                 0.166667   \n",
              "119557                 0.000161                 0.166667   \n",
              "119558                 0.000048                 0.000000   \n",
              "119559                 0.000029                 0.000000   \n",
              "119560                 0.000002                 0.000000   \n",
              "\n",
              "        Days_Between_OOSIncident_ISIncident  \n",
              "0                                       1.0  \n",
              "1                                       1.0  \n",
              "2                                       1.0  \n",
              "3                                       1.0  \n",
              "4                                       1.0  \n",
              "...                                     ...  \n",
              "119556                                  1.0  \n",
              "119557                                  1.0  \n",
              "119558                                  1.0  \n",
              "119559                                  1.0  \n",
              "119560                                  1.0  \n",
              "\n",
              "[119561 rows x 3 columns]"
            ]
          },
          "metadata": {
            "tags": []
          },
          "execution_count": 233
        }
      ]
    },
    {
      "cell_type": "code",
      "metadata": {
        "id": "sSLgwhmhoDwi",
        "colab_type": "code",
        "colab": {}
      },
      "source": [
        "col1 = Feat_DF['Distance_Between_IS_OOS']\n",
        "col2 = Feat_DF['No_Carriers_Per_Vehicle']\n",
        "col3 = Feat_DF['Days_Between_OOSIncident_ISIncident']"
      ],
      "execution_count": null,
      "outputs": []
    },
    {
      "cell_type": "markdown",
      "metadata": {
        "id": "QLnvjU3soWZ4",
        "colab_type": "text"
      },
      "source": [
        "Hierarchical Clustering"
      ]
    },
    {
      "cell_type": "code",
      "metadata": {
        "id": "VxUrsZaroDwp",
        "colab_type": "code",
        "colab": {},
        "outputId": "24c3a577-33ed-4897-8903-f43317650888"
      },
      "source": [
        "labels = cluster.labels_\n",
        "\n",
        "\n",
        "colors = 10*['r','g','b','c','k','y','m']\n",
        "\n",
        "\n",
        "fig = plt.figure(figsize=(18,18))\n",
        "ax = fig.add_subplot(111, projection='3d')\n",
        "\n",
        "for i in range(len(col1)):\n",
        "\n",
        "    ax.scatter(col1[i], col2[i], col3[i], c=colors[labels[i]], marker='o')\n",
        "\n",
        "\n",
        "# ax.scatter(cluster_centers[:,0],cluster_centers[:,1],cluster_centers[:,2],\n",
        "#             marker=\"x\",color='k', s=150, linewidths = 5, zorder=10)\n",
        "\n",
        "plt.show()"
      ],
      "execution_count": null,
      "outputs": [
        {
          "output_type": "display_data",
          "data": {
            "image/png": "[encoded data removed]",
            "text/plain": [
              "<Figure size 1296x1296 with 1 Axes>"
            ]
          },
          "metadata": {
            "tags": [],
            "needs_background": "light"
          }
        }
      ]
    },
    {
      "cell_type": "code",
      "metadata": {
        "id": "yZomEewboDwr",
        "colab_type": "code",
        "colab": {},
        "outputId": "e7132b40-12c5-48ac-c24e-befc1189f5c4"
      },
      "source": [
        "# Join Labels to DF and view\n",
        "Final_Labels = Final_DF.join(labels_Sr)\n",
        "Final_Labels.head(10)"
      ],
      "execution_count": null,
      "outputs": [
        {
          "output_type": "execute_result",
          "data": {
            "text/html": [
              "<div>\n",
              "<style scoped>\n",
              "    .dataframe tbody tr th:only-of-type {\n",
              "        vertical-align: middle;\n",
              "    }\n",
              "\n",
              "    .dataframe tbody tr th {\n",
              "        vertical-align: top;\n",
              "    }\n",
              "\n",
              "    .dataframe thead th {\n",
              "        text-align: right;\n",
              "    }\n",
              "</style>\n",
              "<table border=\"1\" class=\"dataframe\">\n",
              "  <thead>\n",
              "    <tr style=\"text-align: right;\">\n",
              "      <th></th>\n",
              "      <th>VEHICLE_ID_NO</th>\n",
              "      <th>USDOT</th>\n",
              "      <th>CARRIER_NAME</th>\n",
              "      <th>CARRIER_STATE</th>\n",
              "      <th>No_Carriers_Per_Vehicle</th>\n",
              "      <th>Days_Between_OOSIncident_ISIncident</th>\n",
              "      <th>Incident_After_OOS</th>\n",
              "      <th>LEGAL_NAME_OS</th>\n",
              "      <th>ZIP_CODE</th>\n",
              "      <th>STATE_OS</th>\n",
              "      <th>CITY_OS</th>\n",
              "      <th>Distance_Between_IS_OOS</th>\n",
              "      <th>Labels</th>\n",
              "    </tr>\n",
              "  </thead>\n",
              "  <tbody>\n",
              "    <tr>\n",
              "      <td>0</td>\n",
              "      <td>00000000000EB2677</td>\n",
              "      <td>606698</td>\n",
              "      <td>TRANSPORTES JD</td>\n",
              "      <td>CI</td>\n",
              "      <td>1</td>\n",
              "      <td>800.0</td>\n",
              "      <td>0.0</td>\n",
              "      <td>TRANSPORTES EFREN PORRAS S DE RL DE CV</td>\n",
              "      <td>32674</td>\n",
              "      <td>CI</td>\n",
              "      <td>JUAREZ</td>\n",
              "      <td>687.211038</td>\n",
              "      <td>1</td>\n",
              "    </tr>\n",
              "    <tr>\n",
              "      <td>1</td>\n",
              "      <td>1DW1A53246B849986</td>\n",
              "      <td>606698</td>\n",
              "      <td>TRANSPORTES JD</td>\n",
              "      <td>CI</td>\n",
              "      <td>1</td>\n",
              "      <td>800.0</td>\n",
              "      <td>0.0</td>\n",
              "      <td>TRANSPORTES EFREN PORRAS S DE RL DE CV</td>\n",
              "      <td>32674</td>\n",
              "      <td>CI</td>\n",
              "      <td>JUAREZ</td>\n",
              "      <td>687.211038</td>\n",
              "      <td>1</td>\n",
              "    </tr>\n",
              "    <tr>\n",
              "      <td>2</td>\n",
              "      <td>1DW1A53276B850002</td>\n",
              "      <td>606698</td>\n",
              "      <td>JESUS MANUEL DUARTE</td>\n",
              "      <td>CI</td>\n",
              "      <td>1</td>\n",
              "      <td>800.0</td>\n",
              "      <td>0.0</td>\n",
              "      <td>TRANSPORTES EFREN PORRAS S DE RL DE CV</td>\n",
              "      <td>32674</td>\n",
              "      <td>CI</td>\n",
              "      <td>JUAREZ</td>\n",
              "      <td>687.211038</td>\n",
              "      <td>1</td>\n",
              "    </tr>\n",
              "    <tr>\n",
              "      <td>3</td>\n",
              "      <td>1FUJBBCK56LU39668</td>\n",
              "      <td>606698</td>\n",
              "      <td>TRANSPORTES JD</td>\n",
              "      <td>CI</td>\n",
              "      <td>1</td>\n",
              "      <td>800.0</td>\n",
              "      <td>0.0</td>\n",
              "      <td>TRANSPORTES EFREN PORRAS S DE RL DE CV</td>\n",
              "      <td>32674</td>\n",
              "      <td>CI</td>\n",
              "      <td>JUAREZ</td>\n",
              "      <td>687.211038</td>\n",
              "      <td>1</td>\n",
              "    </tr>\n",
              "    <tr>\n",
              "      <td>4</td>\n",
              "      <td>1FUYDCYB0RH465304</td>\n",
              "      <td>606698</td>\n",
              "      <td>TRANSPORTES JD</td>\n",
              "      <td>CI</td>\n",
              "      <td>1</td>\n",
              "      <td>800.0</td>\n",
              "      <td>0.0</td>\n",
              "      <td>TRANSPORTES EFREN PORRAS S DE RL DE CV</td>\n",
              "      <td>32674</td>\n",
              "      <td>CI</td>\n",
              "      <td>JUAREZ</td>\n",
              "      <td>687.211038</td>\n",
              "      <td>1</td>\n",
              "    </tr>\n",
              "    <tr>\n",
              "      <td>5</td>\n",
              "      <td>1GRAA0620XB009456</td>\n",
              "      <td>606698</td>\n",
              "      <td>TRANSPORTES JD</td>\n",
              "      <td>CI</td>\n",
              "      <td>2</td>\n",
              "      <td>800.0</td>\n",
              "      <td>0.0</td>\n",
              "      <td>TRANSPORTES EFREN PORRAS S DE RL DE CV</td>\n",
              "      <td>32674</td>\n",
              "      <td>CI</td>\n",
              "      <td>JUAREZ</td>\n",
              "      <td>687.211038</td>\n",
              "      <td>0</td>\n",
              "    </tr>\n",
              "    <tr>\n",
              "      <td>6</td>\n",
              "      <td>1GRAA0620XB157820</td>\n",
              "      <td>606698</td>\n",
              "      <td>JESUS MANUEL DUARTE</td>\n",
              "      <td>CI</td>\n",
              "      <td>1</td>\n",
              "      <td>800.0</td>\n",
              "      <td>0.0</td>\n",
              "      <td>TRANSPORTES EFREN PORRAS S DE RL DE CV</td>\n",
              "      <td>32674</td>\n",
              "      <td>CI</td>\n",
              "      <td>JUAREZ</td>\n",
              "      <td>687.211038</td>\n",
              "      <td>1</td>\n",
              "    </tr>\n",
              "    <tr>\n",
              "      <td>7</td>\n",
              "      <td>1GRAA0627PB087460</td>\n",
              "      <td>606698</td>\n",
              "      <td>TRANSPORTES JD</td>\n",
              "      <td>CI</td>\n",
              "      <td>2</td>\n",
              "      <td>800.0</td>\n",
              "      <td>0.0</td>\n",
              "      <td>TRANSPORTES EFREN PORRAS S DE RL DE CV</td>\n",
              "      <td>32674</td>\n",
              "      <td>CI</td>\n",
              "      <td>JUAREZ</td>\n",
              "      <td>687.211038</td>\n",
              "      <td>0</td>\n",
              "    </tr>\n",
              "    <tr>\n",
              "      <td>8</td>\n",
              "      <td>1GRAA0627XB009423</td>\n",
              "      <td>606698</td>\n",
              "      <td>TRANSPORTES JD</td>\n",
              "      <td>CI</td>\n",
              "      <td>1</td>\n",
              "      <td>800.0</td>\n",
              "      <td>0.0</td>\n",
              "      <td>TRANSPORTES EFREN PORRAS S DE RL DE CV</td>\n",
              "      <td>32674</td>\n",
              "      <td>CI</td>\n",
              "      <td>JUAREZ</td>\n",
              "      <td>687.211038</td>\n",
              "      <td>1</td>\n",
              "    </tr>\n",
              "    <tr>\n",
              "      <td>9</td>\n",
              "      <td>1GRAA06281B180026</td>\n",
              "      <td>606698</td>\n",
              "      <td>TRANSPORTES JD</td>\n",
              "      <td>CI</td>\n",
              "      <td>1</td>\n",
              "      <td>800.0</td>\n",
              "      <td>0.0</td>\n",
              "      <td>TRANSPORTES EFREN PORRAS S DE RL DE CV</td>\n",
              "      <td>32674</td>\n",
              "      <td>CI</td>\n",
              "      <td>JUAREZ</td>\n",
              "      <td>687.211038</td>\n",
              "      <td>1</td>\n",
              "    </tr>\n",
              "  </tbody>\n",
              "</table>\n",
              "</div>"
            ],
            "text/plain": [
              "       VEHICLE_ID_NO   USDOT         CARRIER_NAME CARRIER_STATE  \\\n",
              "0  00000000000EB2677  606698       TRANSPORTES JD            CI   \n",
              "1  1DW1A53246B849986  606698       TRANSPORTES JD            CI   \n",
              "2  1DW1A53276B850002  606698  JESUS MANUEL DUARTE            CI   \n",
              "3  1FUJBBCK56LU39668  606698       TRANSPORTES JD            CI   \n",
              "4  1FUYDCYB0RH465304  606698       TRANSPORTES JD            CI   \n",
              "5  1GRAA0620XB009456  606698       TRANSPORTES JD            CI   \n",
              "6  1GRAA0620XB157820  606698  JESUS MANUEL DUARTE            CI   \n",
              "7  1GRAA0627PB087460  606698       TRANSPORTES JD            CI   \n",
              "8  1GRAA0627XB009423  606698       TRANSPORTES JD            CI   \n",
              "9  1GRAA06281B180026  606698       TRANSPORTES JD            CI   \n",
              "\n",
              "   No_Carriers_Per_Vehicle  Days_Between_OOSIncident_ISIncident  \\\n",
              "0                        1                                800.0   \n",
              "1                        1                                800.0   \n",
              "2                        1                                800.0   \n",
              "3                        1                                800.0   \n",
              "4                        1                                800.0   \n",
              "5                        2                                800.0   \n",
              "6                        1                                800.0   \n",
              "7                        2                                800.0   \n",
              "8                        1                                800.0   \n",
              "9                        1                                800.0   \n",
              "\n",
              "   Incident_After_OOS                           LEGAL_NAME_OS ZIP_CODE  \\\n",
              "0                 0.0  TRANSPORTES EFREN PORRAS S DE RL DE CV    32674   \n",
              "1                 0.0  TRANSPORTES EFREN PORRAS S DE RL DE CV    32674   \n",
              "2                 0.0  TRANSPORTES EFREN PORRAS S DE RL DE CV    32674   \n",
              "3                 0.0  TRANSPORTES EFREN PORRAS S DE RL DE CV    32674   \n",
              "4                 0.0  TRANSPORTES EFREN PORRAS S DE RL DE CV    32674   \n",
              "5                 0.0  TRANSPORTES EFREN PORRAS S DE RL DE CV    32674   \n",
              "6                 0.0  TRANSPORTES EFREN PORRAS S DE RL DE CV    32674   \n",
              "7                 0.0  TRANSPORTES EFREN PORRAS S DE RL DE CV    32674   \n",
              "8                 0.0  TRANSPORTES EFREN PORRAS S DE RL DE CV    32674   \n",
              "9                 0.0  TRANSPORTES EFREN PORRAS S DE RL DE CV    32674   \n",
              "\n",
              "  STATE_OS CITY_OS  Distance_Between_IS_OOS  Labels  \n",
              "0       CI  JUAREZ               687.211038       1  \n",
              "1       CI  JUAREZ               687.211038       1  \n",
              "2       CI  JUAREZ               687.211038       1  \n",
              "3       CI  JUAREZ               687.211038       1  \n",
              "4       CI  JUAREZ               687.211038       1  \n",
              "5       CI  JUAREZ               687.211038       0  \n",
              "6       CI  JUAREZ               687.211038       1  \n",
              "7       CI  JUAREZ               687.211038       0  \n",
              "8       CI  JUAREZ               687.211038       1  \n",
              "9       CI  JUAREZ               687.211038       1  "
            ]
          },
          "metadata": {
            "tags": []
          },
          "execution_count": 292
        }
      ]
    },
    {
      "cell_type": "code",
      "metadata": {
        "id": "rpgciqVjoDwu",
        "colab_type": "code",
        "colab": {}
      },
      "source": [
        ""
      ],
      "execution_count": null,
      "outputs": []
    }
  ]
}